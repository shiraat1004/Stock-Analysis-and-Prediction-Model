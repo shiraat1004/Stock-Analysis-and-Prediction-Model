{
 "cells": [
  {
   "metadata": {
    "ExecuteTime": {
     "end_time": "2025-06-01T10:17:16.837143Z",
     "start_time": "2025-06-01T10:17:16.829601Z"
    }
   },
   "cell_type": "code",
   "source": [
    "import numpy as np\n",
    "import pandas as pd\n",
    "import kagglehub\n",
    "import matplotlib.pyplot as plt\n",
    "import seaborn as sns\n",
    "import xgboost as xgb\n",
    "from sklearn.model_selection import train_test_split\n",
    "from sklearn.preprocessing import MinMaxScaler\n",
    "from sklearn.metrics import mean_squared_error,r2_score"
   ],
   "id": "cd22a9cb1024f7bf",
   "outputs": [],
   "execution_count": 318
  },
  {
   "cell_type": "code",
   "id": "initial_id",
   "metadata": {
    "collapsed": true,
    "ExecuteTime": {
     "end_time": "2025-06-01T10:17:19.043113Z",
     "start_time": "2025-06-01T10:17:17.396802Z"
    }
   },
   "source": [
    "path = kagglehub.dataset_download(\"gratefuldata/intraday-stock-data-1-min-sp-500-200821\")+\"/1_min_SPY_2008-2021.csv\"\n",
    "df = pd.read_csv(path)\n",
    "df.head()"
   ],
   "outputs": [
    {
     "data": {
      "text/plain": [
       "   Unnamed: 0                date   open   high    low  close  volume  \\\n",
       "0           0  20090522  07:30:00  89.45  89.46  89.37  89.37    7872   \n",
       "1           1  20090522  07:31:00  89.38  89.53  89.37  89.50    5336   \n",
       "2           2  20090522  07:32:00  89.51  89.54  89.48  89.49    3349   \n",
       "3           3  20090522  07:33:00  89.49  89.49  89.31  89.34    3495   \n",
       "4           4  20090522  07:34:00  89.33  89.46  89.33  89.39    9731   \n",
       "\n",
       "   barCount  average  \n",
       "0      2102   89.424  \n",
       "1      1938   89.468  \n",
       "2      1184   89.516  \n",
       "3      1240   89.386  \n",
       "4      2637   89.379  "
      ],
      "text/html": [
       "<div>\n",
       "<style scoped>\n",
       "    .dataframe tbody tr th:only-of-type {\n",
       "        vertical-align: middle;\n",
       "    }\n",
       "\n",
       "    .dataframe tbody tr th {\n",
       "        vertical-align: top;\n",
       "    }\n",
       "\n",
       "    .dataframe thead th {\n",
       "        text-align: right;\n",
       "    }\n",
       "</style>\n",
       "<table border=\"1\" class=\"dataframe\">\n",
       "  <thead>\n",
       "    <tr style=\"text-align: right;\">\n",
       "      <th></th>\n",
       "      <th>Unnamed: 0</th>\n",
       "      <th>date</th>\n",
       "      <th>open</th>\n",
       "      <th>high</th>\n",
       "      <th>low</th>\n",
       "      <th>close</th>\n",
       "      <th>volume</th>\n",
       "      <th>barCount</th>\n",
       "      <th>average</th>\n",
       "    </tr>\n",
       "  </thead>\n",
       "  <tbody>\n",
       "    <tr>\n",
       "      <th>0</th>\n",
       "      <td>0</td>\n",
       "      <td>20090522  07:30:00</td>\n",
       "      <td>89.45</td>\n",
       "      <td>89.46</td>\n",
       "      <td>89.37</td>\n",
       "      <td>89.37</td>\n",
       "      <td>7872</td>\n",
       "      <td>2102</td>\n",
       "      <td>89.424</td>\n",
       "    </tr>\n",
       "    <tr>\n",
       "      <th>1</th>\n",
       "      <td>1</td>\n",
       "      <td>20090522  07:31:00</td>\n",
       "      <td>89.38</td>\n",
       "      <td>89.53</td>\n",
       "      <td>89.37</td>\n",
       "      <td>89.50</td>\n",
       "      <td>5336</td>\n",
       "      <td>1938</td>\n",
       "      <td>89.468</td>\n",
       "    </tr>\n",
       "    <tr>\n",
       "      <th>2</th>\n",
       "      <td>2</td>\n",
       "      <td>20090522  07:32:00</td>\n",
       "      <td>89.51</td>\n",
       "      <td>89.54</td>\n",
       "      <td>89.48</td>\n",
       "      <td>89.49</td>\n",
       "      <td>3349</td>\n",
       "      <td>1184</td>\n",
       "      <td>89.516</td>\n",
       "    </tr>\n",
       "    <tr>\n",
       "      <th>3</th>\n",
       "      <td>3</td>\n",
       "      <td>20090522  07:33:00</td>\n",
       "      <td>89.49</td>\n",
       "      <td>89.49</td>\n",
       "      <td>89.31</td>\n",
       "      <td>89.34</td>\n",
       "      <td>3495</td>\n",
       "      <td>1240</td>\n",
       "      <td>89.386</td>\n",
       "    </tr>\n",
       "    <tr>\n",
       "      <th>4</th>\n",
       "      <td>4</td>\n",
       "      <td>20090522  07:34:00</td>\n",
       "      <td>89.33</td>\n",
       "      <td>89.46</td>\n",
       "      <td>89.33</td>\n",
       "      <td>89.39</td>\n",
       "      <td>9731</td>\n",
       "      <td>2637</td>\n",
       "      <td>89.379</td>\n",
       "    </tr>\n",
       "  </tbody>\n",
       "</table>\n",
       "</div>"
      ]
     },
     "execution_count": 319,
     "metadata": {},
     "output_type": "execute_result"
    }
   ],
   "execution_count": 319
  },
  {
   "metadata": {},
   "cell_type": "markdown",
   "source": "*About The Data*",
   "id": "519cac201700ba35"
  },
  {
   "metadata": {
    "ExecuteTime": {
     "end_time": "2025-06-01T10:17:19.075211Z",
     "start_time": "2025-06-01T10:17:19.044568Z"
    }
   },
   "cell_type": "code",
   "source": "df.drop(\"Unnamed: 0\", axis=1, inplace=True) #unused column",
   "id": "593e71c0d1563a00",
   "outputs": [],
   "execution_count": 320
  },
  {
   "metadata": {
    "ExecuteTime": {
     "end_time": "2025-06-01T10:17:19.129845Z",
     "start_time": "2025-06-01T10:17:19.076995Z"
    }
   },
   "cell_type": "code",
   "source": "df.isnull().sum()",
   "id": "136eed610c4d70c0",
   "outputs": [
    {
     "data": {
      "text/plain": [
       "date        0\n",
       "open        0\n",
       "high        0\n",
       "low         0\n",
       "close       0\n",
       "volume      0\n",
       "barCount    0\n",
       "average     0\n",
       "dtype: int64"
      ]
     },
     "execution_count": 321,
     "metadata": {},
     "output_type": "execute_result"
    }
   ],
   "execution_count": 321
  },
  {
   "metadata": {},
   "cell_type": "markdown",
   "source": "No null values",
   "id": "e8e90a46db329205"
  },
  {
   "metadata": {
    "ExecuteTime": {
     "end_time": "2025-06-01T10:17:20.458223Z",
     "start_time": "2025-06-01T10:17:20.230242Z"
    }
   },
   "cell_type": "code",
   "source": "df.describe()",
   "id": "ce4bc1abceb4fd5b",
   "outputs": [
    {
     "data": {
      "text/plain": [
       "               open          high           low         close        volume  \\\n",
       "count  2.070834e+06  2.070834e+06  2.070834e+06  2.070834e+06  2.070834e+06   \n",
       "mean   2.090970e+02  2.091476e+02  2.090460e+02  2.090970e+02  2.703771e+03   \n",
       "std    8.408773e+01  8.409520e+01  8.407992e+01  8.408770e+01  3.826367e+03   \n",
       "min    6.712000e+01  6.720000e+01  6.710000e+01  6.712000e+01  0.000000e+00   \n",
       "25%    1.331400e+02  1.331700e+02  1.331000e+02  1.331400e+02  6.590000e+02   \n",
       "50%    2.028800e+02  2.029300e+02  2.028300e+02  2.028800e+02  1.503000e+03   \n",
       "75%    2.776300e+02  2.777000e+02  2.775700e+02  2.776300e+02  3.265000e+03   \n",
       "max    4.206700e+02  4.207200e+02  4.204000e+02  4.206700e+02  3.312820e+05   \n",
       "\n",
       "           barCount       average  \n",
       "count  2.070834e+06  2.070834e+06  \n",
       "mean   8.388165e+02  2.090969e+02  \n",
       "std    9.743847e+02  8.408758e+01  \n",
       "min    0.000000e+00  6.715200e+01  \n",
       "25%    2.760000e+02  1.331390e+02  \n",
       "50%    5.480000e+02  2.028800e+02  \n",
       "75%    1.055000e+03  2.776340e+02  \n",
       "max    3.024500e+04  4.205350e+02  "
      ],
      "text/html": [
       "<div>\n",
       "<style scoped>\n",
       "    .dataframe tbody tr th:only-of-type {\n",
       "        vertical-align: middle;\n",
       "    }\n",
       "\n",
       "    .dataframe tbody tr th {\n",
       "        vertical-align: top;\n",
       "    }\n",
       "\n",
       "    .dataframe thead th {\n",
       "        text-align: right;\n",
       "    }\n",
       "</style>\n",
       "<table border=\"1\" class=\"dataframe\">\n",
       "  <thead>\n",
       "    <tr style=\"text-align: right;\">\n",
       "      <th></th>\n",
       "      <th>open</th>\n",
       "      <th>high</th>\n",
       "      <th>low</th>\n",
       "      <th>close</th>\n",
       "      <th>volume</th>\n",
       "      <th>barCount</th>\n",
       "      <th>average</th>\n",
       "    </tr>\n",
       "  </thead>\n",
       "  <tbody>\n",
       "    <tr>\n",
       "      <th>count</th>\n",
       "      <td>2.070834e+06</td>\n",
       "      <td>2.070834e+06</td>\n",
       "      <td>2.070834e+06</td>\n",
       "      <td>2.070834e+06</td>\n",
       "      <td>2.070834e+06</td>\n",
       "      <td>2.070834e+06</td>\n",
       "      <td>2.070834e+06</td>\n",
       "    </tr>\n",
       "    <tr>\n",
       "      <th>mean</th>\n",
       "      <td>2.090970e+02</td>\n",
       "      <td>2.091476e+02</td>\n",
       "      <td>2.090460e+02</td>\n",
       "      <td>2.090970e+02</td>\n",
       "      <td>2.703771e+03</td>\n",
       "      <td>8.388165e+02</td>\n",
       "      <td>2.090969e+02</td>\n",
       "    </tr>\n",
       "    <tr>\n",
       "      <th>std</th>\n",
       "      <td>8.408773e+01</td>\n",
       "      <td>8.409520e+01</td>\n",
       "      <td>8.407992e+01</td>\n",
       "      <td>8.408770e+01</td>\n",
       "      <td>3.826367e+03</td>\n",
       "      <td>9.743847e+02</td>\n",
       "      <td>8.408758e+01</td>\n",
       "    </tr>\n",
       "    <tr>\n",
       "      <th>min</th>\n",
       "      <td>6.712000e+01</td>\n",
       "      <td>6.720000e+01</td>\n",
       "      <td>6.710000e+01</td>\n",
       "      <td>6.712000e+01</td>\n",
       "      <td>0.000000e+00</td>\n",
       "      <td>0.000000e+00</td>\n",
       "      <td>6.715200e+01</td>\n",
       "    </tr>\n",
       "    <tr>\n",
       "      <th>25%</th>\n",
       "      <td>1.331400e+02</td>\n",
       "      <td>1.331700e+02</td>\n",
       "      <td>1.331000e+02</td>\n",
       "      <td>1.331400e+02</td>\n",
       "      <td>6.590000e+02</td>\n",
       "      <td>2.760000e+02</td>\n",
       "      <td>1.331390e+02</td>\n",
       "    </tr>\n",
       "    <tr>\n",
       "      <th>50%</th>\n",
       "      <td>2.028800e+02</td>\n",
       "      <td>2.029300e+02</td>\n",
       "      <td>2.028300e+02</td>\n",
       "      <td>2.028800e+02</td>\n",
       "      <td>1.503000e+03</td>\n",
       "      <td>5.480000e+02</td>\n",
       "      <td>2.028800e+02</td>\n",
       "    </tr>\n",
       "    <tr>\n",
       "      <th>75%</th>\n",
       "      <td>2.776300e+02</td>\n",
       "      <td>2.777000e+02</td>\n",
       "      <td>2.775700e+02</td>\n",
       "      <td>2.776300e+02</td>\n",
       "      <td>3.265000e+03</td>\n",
       "      <td>1.055000e+03</td>\n",
       "      <td>2.776340e+02</td>\n",
       "    </tr>\n",
       "    <tr>\n",
       "      <th>max</th>\n",
       "      <td>4.206700e+02</td>\n",
       "      <td>4.207200e+02</td>\n",
       "      <td>4.204000e+02</td>\n",
       "      <td>4.206700e+02</td>\n",
       "      <td>3.312820e+05</td>\n",
       "      <td>3.024500e+04</td>\n",
       "      <td>4.205350e+02</td>\n",
       "    </tr>\n",
       "  </tbody>\n",
       "</table>\n",
       "</div>"
      ]
     },
     "execution_count": 322,
     "metadata": {},
     "output_type": "execute_result"
    }
   ],
   "execution_count": 322
  },
  {
   "metadata": {},
   "cell_type": "markdown",
   "source": "Values not normalized",
   "id": "99b166022d58a826"
  },
  {
   "metadata": {
    "ExecuteTime": {
     "end_time": "2025-06-01T10:17:21.462033Z",
     "start_time": "2025-06-01T10:17:21.457592Z"
    }
   },
   "cell_type": "code",
   "source": "df.info()",
   "id": "46c209504fd2d716",
   "outputs": [
    {
     "name": "stdout",
     "output_type": "stream",
     "text": [
      "<class 'pandas.core.frame.DataFrame'>\n",
      "RangeIndex: 2070834 entries, 0 to 2070833\n",
      "Data columns (total 8 columns):\n",
      " #   Column    Dtype  \n",
      "---  ------    -----  \n",
      " 0   date      object \n",
      " 1   open      float64\n",
      " 2   high      float64\n",
      " 3   low       float64\n",
      " 4   close     float64\n",
      " 5   volume    int64  \n",
      " 6   barCount  int64  \n",
      " 7   average   float64\n",
      "dtypes: float64(5), int64(2), object(1)\n",
      "memory usage: 126.4+ MB\n"
     ]
    }
   ],
   "execution_count": 323
  },
  {
   "metadata": {},
   "cell_type": "markdown",
   "source": "Over 2M rows-too much",
   "id": "717e8652be804361"
  },
  {
   "metadata": {
    "ExecuteTime": {
     "end_time": "2025-06-01T10:17:22.540745Z",
     "start_time": "2025-06-01T10:17:22.538886Z"
    }
   },
   "cell_type": "code",
   "source": "df=df.iloc[:10_000] #reduce to 10,000 ",
   "id": "2daff9e5694ec768",
   "outputs": [],
   "execution_count": 324
  },
  {
   "metadata": {},
   "cell_type": "markdown",
   "source": "*Clean The Data + Feature Engineering*",
   "id": "8e39be39546d37f0"
  },
  {
   "metadata": {
    "ExecuteTime": {
     "end_time": "2025-06-01T10:17:23.658621Z",
     "start_time": "2025-06-01T10:17:23.637164Z"
    }
   },
   "cell_type": "code",
   "source": "df['date'] = pd.to_datetime(df['date'])",
   "id": "81704f82158b2faf",
   "outputs": [],
   "execution_count": 325
  },
  {
   "metadata": {
    "ExecuteTime": {
     "end_time": "2025-06-01T10:17:24.149194Z",
     "start_time": "2025-06-01T10:17:24.143500Z"
    }
   },
   "cell_type": "code",
   "source": [
    "df['hour']=df['date'].dt.hour\n",
    "df['minute']=df['date'].dt.minute\n",
    "df['daytime']=np.where(df['hour']<12,1,np.where(df ['hour']<17,2,3))"
   ],
   "id": "c09de8735675f3c4",
   "outputs": [],
   "execution_count": 326
  },
  {
   "metadata": {},
   "cell_type": "markdown",
   "source": "More relevant time columns",
   "id": "42e4f7f7fe406171"
  },
  {
   "metadata": {
    "ExecuteTime": {
     "end_time": "2025-06-01T10:17:25.208211Z",
     "start_time": "2025-06-01T10:17:25.202682Z"
    }
   },
   "cell_type": "code",
   "source": [
    "df['mean5']=np.mean(np.array([df['close'].shift(1),df['close'].shift(2),df['close'].shift(3),df['close'].shift(4),df['close'].shift(5)]),axis=0)\n",
    "df['std5']=np.std(np.array([df['close'].shift(1),df['close'].shift(2),df['close'].shift(3),df['close'].shift(4),df['close'].shift(5)]),axis=0)\n",
    "df['average5']=np.mean(np.array([df['average'].shift(1),df['average'].shift(2),df['average'].shift(3),df['average'].shift(4),df['average'].shift(5)]),axis=0)\n",
    "df['barCount5']=np.mean(np.array([df['barCount'].shift(1),df['barCount'].shift(2),df['barCount'].shift(3),df['barCount'].shift(4),df['barCount'].shift(5)]),axis=0)"
   ],
   "id": "cf0f61eca5921cf7",
   "outputs": [],
   "execution_count": 327
  },
  {
   "metadata": {},
   "cell_type": "markdown",
   "source": "Columns about the past 5 minutes",
   "id": "8b7fc8465a95d49b"
  },
  {
   "metadata": {
    "ExecuteTime": {
     "end_time": "2025-06-01T10:17:26.261008Z",
     "start_time": "2025-06-01T10:17:26.258404Z"
    }
   },
   "cell_type": "code",
   "source": [
    "df['rate']=df['close']/df['high'].shift(1)\n",
    "df['up/down']=np.where(df['close']>df['high'].shift(1),1,0)"
   ],
   "id": "3f35afad0eac7a7b",
   "outputs": [],
   "execution_count": 328
  },
  {
   "metadata": {
    "ExecuteTime": {
     "end_time": "2025-06-01T10:17:26.802154Z",
     "start_time": "2025-06-01T10:17:26.796496Z"
    }
   },
   "cell_type": "code",
   "source": [
    "df['rate1']=df['high'].shift(-1)/df['close']-1\n",
    "df['rate2']=df['high'].shift(-2)/df['close']-1\n",
    "df['rate3']=df['high'].shift(-3)/df['close']-1\n",
    "df['rate4']=df['high'].shift(-4)/df['close']-1\n",
    "df['rate5']=df['high'].shift(-5)/df['close']-1\n"
   ],
   "id": "d7cdf85acf224382",
   "outputs": [],
   "execution_count": 329
  },
  {
   "metadata": {
    "ExecuteTime": {
     "end_time": "2025-06-01T10:17:27.344542Z",
     "start_time": "2025-06-01T10:17:27.338844Z"
    }
   },
   "cell_type": "code",
   "source": "df['target']=np.max(np.array([df['rate1'],df['rate2'],df['rate3'],df['rate4'],df['rate5']]),axis=0)",
   "id": "6e38b5f6129d8434",
   "outputs": [],
   "execution_count": 330
  },
  {
   "metadata": {},
   "cell_type": "markdown",
   "source": "Predict the maximum return for the next 5 minutes~",
   "id": "388c53958f6fa27a"
  },
  {
   "metadata": {
    "ExecuteTime": {
     "end_time": "2025-06-01T10:17:28.342915Z",
     "start_time": "2025-06-01T10:17:28.331351Z"
    }
   },
   "cell_type": "code",
   "source": [
    "df=df[5:-5] #remove null values\n",
    "df"
   ],
   "id": "f0f97d0b66dd55dd",
   "outputs": [
    {
     "data": {
      "text/plain": [
       "                    date    open    high     low   close  volume  barCount  \\\n",
       "5    2009-05-22 07:35:00   89.38   89.41   89.17   89.18    8546      2366   \n",
       "6    2009-05-22 07:36:00   89.18   89.34   89.18   89.33    9047      2244   \n",
       "7    2009-05-22 07:37:00   89.33   89.43   89.21   89.21   11989      3368   \n",
       "8    2009-05-22 07:38:00   89.21   89.34   89.19   89.21    7399      2251   \n",
       "9    2009-05-22 07:39:00   89.21   89.25   89.12   89.15   11346      2828   \n",
       "...                  ...     ...     ...     ...     ...     ...       ...   \n",
       "9990 2015-09-09 07:30:00  199.34  199.39  199.15  199.16   11676      2652   \n",
       "9991 2015-09-09 07:31:00  199.17  199.29  199.17  199.23    5701      1964   \n",
       "9992 2015-09-09 07:32:00  199.24  199.24  199.11  199.24    4751      1665   \n",
       "9993 2015-09-09 07:33:00  199.23  199.31  199.16  199.17    3468      1189   \n",
       "9994 2015-09-09 07:34:00  199.18  199.27  199.14  199.14    5215      1493   \n",
       "\n",
       "      average  hour  minute  ...  average5  barCount5      rate  up/down  \\\n",
       "5      89.273     7      35  ...   89.4346     1820.2  0.996870        0   \n",
       "6      89.248     7      36  ...   89.4044     1873.0  0.999105        0   \n",
       "7      89.326     7      37  ...   89.3604     1934.2  0.998545        0   \n",
       "8      89.254     7      38  ...   89.3224     2371.0  0.997540        0   \n",
       "9      89.196     7      39  ...   89.2960     2573.2  0.997873        0   \n",
       "...       ...   ...     ...  ...       ...        ...       ...      ...   \n",
       "9990  199.273     7      30  ...  218.5908     2383.4  0.910945        0   \n",
       "9991  199.231     7      31  ...  214.7292     2626.8  0.999198        0   \n",
       "9992  199.164     7      32  ...  210.8598     2677.0  0.999749        0   \n",
       "9993  199.255     7      33  ...  206.9724     2677.8  0.999649        0   \n",
       "9994  199.220     7      34  ...  203.1030     2366.8  0.999147        0   \n",
       "\n",
       "         rate1     rate2     rate3     rate4     rate5    target  \n",
       "5     0.001794  0.002803  0.001794  0.000785  0.000449  0.002803  \n",
       "6     0.001119  0.000112 -0.000896 -0.001231 -0.001119  0.001119  \n",
       "7     0.001457  0.000448  0.000112  0.000224 -0.000336  0.001457  \n",
       "8     0.000448  0.000112  0.000224 -0.000336 -0.001794  0.000448  \n",
       "9     0.000785  0.000897  0.000337 -0.001122 -0.002019  0.000897  \n",
       "...        ...       ...       ...       ...       ...       ...  \n",
       "9990  0.000653  0.000402  0.000753  0.000552  0.001155  0.001155  \n",
       "9991  0.000050  0.000402  0.000201  0.000803  0.001004  0.001004  \n",
       "9992  0.000351  0.000151  0.000753  0.000954  0.001154  0.001154  \n",
       "9993  0.000502  0.001105  0.001305  0.001506  0.000954  0.001506  \n",
       "9994  0.001255  0.001456  0.001657  0.001105  0.000954  0.001657  \n",
       "\n",
       "[9990 rows x 23 columns]"
      ],
      "text/html": [
       "<div>\n",
       "<style scoped>\n",
       "    .dataframe tbody tr th:only-of-type {\n",
       "        vertical-align: middle;\n",
       "    }\n",
       "\n",
       "    .dataframe tbody tr th {\n",
       "        vertical-align: top;\n",
       "    }\n",
       "\n",
       "    .dataframe thead th {\n",
       "        text-align: right;\n",
       "    }\n",
       "</style>\n",
       "<table border=\"1\" class=\"dataframe\">\n",
       "  <thead>\n",
       "    <tr style=\"text-align: right;\">\n",
       "      <th></th>\n",
       "      <th>date</th>\n",
       "      <th>open</th>\n",
       "      <th>high</th>\n",
       "      <th>low</th>\n",
       "      <th>close</th>\n",
       "      <th>volume</th>\n",
       "      <th>barCount</th>\n",
       "      <th>average</th>\n",
       "      <th>hour</th>\n",
       "      <th>minute</th>\n",
       "      <th>...</th>\n",
       "      <th>average5</th>\n",
       "      <th>barCount5</th>\n",
       "      <th>rate</th>\n",
       "      <th>up/down</th>\n",
       "      <th>rate1</th>\n",
       "      <th>rate2</th>\n",
       "      <th>rate3</th>\n",
       "      <th>rate4</th>\n",
       "      <th>rate5</th>\n",
       "      <th>target</th>\n",
       "    </tr>\n",
       "  </thead>\n",
       "  <tbody>\n",
       "    <tr>\n",
       "      <th>5</th>\n",
       "      <td>2009-05-22 07:35:00</td>\n",
       "      <td>89.38</td>\n",
       "      <td>89.41</td>\n",
       "      <td>89.17</td>\n",
       "      <td>89.18</td>\n",
       "      <td>8546</td>\n",
       "      <td>2366</td>\n",
       "      <td>89.273</td>\n",
       "      <td>7</td>\n",
       "      <td>35</td>\n",
       "      <td>...</td>\n",
       "      <td>89.4346</td>\n",
       "      <td>1820.2</td>\n",
       "      <td>0.996870</td>\n",
       "      <td>0</td>\n",
       "      <td>0.001794</td>\n",
       "      <td>0.002803</td>\n",
       "      <td>0.001794</td>\n",
       "      <td>0.000785</td>\n",
       "      <td>0.000449</td>\n",
       "      <td>0.002803</td>\n",
       "    </tr>\n",
       "    <tr>\n",
       "      <th>6</th>\n",
       "      <td>2009-05-22 07:36:00</td>\n",
       "      <td>89.18</td>\n",
       "      <td>89.34</td>\n",
       "      <td>89.18</td>\n",
       "      <td>89.33</td>\n",
       "      <td>9047</td>\n",
       "      <td>2244</td>\n",
       "      <td>89.248</td>\n",
       "      <td>7</td>\n",
       "      <td>36</td>\n",
       "      <td>...</td>\n",
       "      <td>89.4044</td>\n",
       "      <td>1873.0</td>\n",
       "      <td>0.999105</td>\n",
       "      <td>0</td>\n",
       "      <td>0.001119</td>\n",
       "      <td>0.000112</td>\n",
       "      <td>-0.000896</td>\n",
       "      <td>-0.001231</td>\n",
       "      <td>-0.001119</td>\n",
       "      <td>0.001119</td>\n",
       "    </tr>\n",
       "    <tr>\n",
       "      <th>7</th>\n",
       "      <td>2009-05-22 07:37:00</td>\n",
       "      <td>89.33</td>\n",
       "      <td>89.43</td>\n",
       "      <td>89.21</td>\n",
       "      <td>89.21</td>\n",
       "      <td>11989</td>\n",
       "      <td>3368</td>\n",
       "      <td>89.326</td>\n",
       "      <td>7</td>\n",
       "      <td>37</td>\n",
       "      <td>...</td>\n",
       "      <td>89.3604</td>\n",
       "      <td>1934.2</td>\n",
       "      <td>0.998545</td>\n",
       "      <td>0</td>\n",
       "      <td>0.001457</td>\n",
       "      <td>0.000448</td>\n",
       "      <td>0.000112</td>\n",
       "      <td>0.000224</td>\n",
       "      <td>-0.000336</td>\n",
       "      <td>0.001457</td>\n",
       "    </tr>\n",
       "    <tr>\n",
       "      <th>8</th>\n",
       "      <td>2009-05-22 07:38:00</td>\n",
       "      <td>89.21</td>\n",
       "      <td>89.34</td>\n",
       "      <td>89.19</td>\n",
       "      <td>89.21</td>\n",
       "      <td>7399</td>\n",
       "      <td>2251</td>\n",
       "      <td>89.254</td>\n",
       "      <td>7</td>\n",
       "      <td>38</td>\n",
       "      <td>...</td>\n",
       "      <td>89.3224</td>\n",
       "      <td>2371.0</td>\n",
       "      <td>0.997540</td>\n",
       "      <td>0</td>\n",
       "      <td>0.000448</td>\n",
       "      <td>0.000112</td>\n",
       "      <td>0.000224</td>\n",
       "      <td>-0.000336</td>\n",
       "      <td>-0.001794</td>\n",
       "      <td>0.000448</td>\n",
       "    </tr>\n",
       "    <tr>\n",
       "      <th>9</th>\n",
       "      <td>2009-05-22 07:39:00</td>\n",
       "      <td>89.21</td>\n",
       "      <td>89.25</td>\n",
       "      <td>89.12</td>\n",
       "      <td>89.15</td>\n",
       "      <td>11346</td>\n",
       "      <td>2828</td>\n",
       "      <td>89.196</td>\n",
       "      <td>7</td>\n",
       "      <td>39</td>\n",
       "      <td>...</td>\n",
       "      <td>89.2960</td>\n",
       "      <td>2573.2</td>\n",
       "      <td>0.997873</td>\n",
       "      <td>0</td>\n",
       "      <td>0.000785</td>\n",
       "      <td>0.000897</td>\n",
       "      <td>0.000337</td>\n",
       "      <td>-0.001122</td>\n",
       "      <td>-0.002019</td>\n",
       "      <td>0.000897</td>\n",
       "    </tr>\n",
       "    <tr>\n",
       "      <th>...</th>\n",
       "      <td>...</td>\n",
       "      <td>...</td>\n",
       "      <td>...</td>\n",
       "      <td>...</td>\n",
       "      <td>...</td>\n",
       "      <td>...</td>\n",
       "      <td>...</td>\n",
       "      <td>...</td>\n",
       "      <td>...</td>\n",
       "      <td>...</td>\n",
       "      <td>...</td>\n",
       "      <td>...</td>\n",
       "      <td>...</td>\n",
       "      <td>...</td>\n",
       "      <td>...</td>\n",
       "      <td>...</td>\n",
       "      <td>...</td>\n",
       "      <td>...</td>\n",
       "      <td>...</td>\n",
       "      <td>...</td>\n",
       "      <td>...</td>\n",
       "    </tr>\n",
       "    <tr>\n",
       "      <th>9990</th>\n",
       "      <td>2015-09-09 07:30:00</td>\n",
       "      <td>199.34</td>\n",
       "      <td>199.39</td>\n",
       "      <td>199.15</td>\n",
       "      <td>199.16</td>\n",
       "      <td>11676</td>\n",
       "      <td>2652</td>\n",
       "      <td>199.273</td>\n",
       "      <td>7</td>\n",
       "      <td>30</td>\n",
       "      <td>...</td>\n",
       "      <td>218.5908</td>\n",
       "      <td>2383.4</td>\n",
       "      <td>0.910945</td>\n",
       "      <td>0</td>\n",
       "      <td>0.000653</td>\n",
       "      <td>0.000402</td>\n",
       "      <td>0.000753</td>\n",
       "      <td>0.000552</td>\n",
       "      <td>0.001155</td>\n",
       "      <td>0.001155</td>\n",
       "    </tr>\n",
       "    <tr>\n",
       "      <th>9991</th>\n",
       "      <td>2015-09-09 07:31:00</td>\n",
       "      <td>199.17</td>\n",
       "      <td>199.29</td>\n",
       "      <td>199.17</td>\n",
       "      <td>199.23</td>\n",
       "      <td>5701</td>\n",
       "      <td>1964</td>\n",
       "      <td>199.231</td>\n",
       "      <td>7</td>\n",
       "      <td>31</td>\n",
       "      <td>...</td>\n",
       "      <td>214.7292</td>\n",
       "      <td>2626.8</td>\n",
       "      <td>0.999198</td>\n",
       "      <td>0</td>\n",
       "      <td>0.000050</td>\n",
       "      <td>0.000402</td>\n",
       "      <td>0.000201</td>\n",
       "      <td>0.000803</td>\n",
       "      <td>0.001004</td>\n",
       "      <td>0.001004</td>\n",
       "    </tr>\n",
       "    <tr>\n",
       "      <th>9992</th>\n",
       "      <td>2015-09-09 07:32:00</td>\n",
       "      <td>199.24</td>\n",
       "      <td>199.24</td>\n",
       "      <td>199.11</td>\n",
       "      <td>199.24</td>\n",
       "      <td>4751</td>\n",
       "      <td>1665</td>\n",
       "      <td>199.164</td>\n",
       "      <td>7</td>\n",
       "      <td>32</td>\n",
       "      <td>...</td>\n",
       "      <td>210.8598</td>\n",
       "      <td>2677.0</td>\n",
       "      <td>0.999749</td>\n",
       "      <td>0</td>\n",
       "      <td>0.000351</td>\n",
       "      <td>0.000151</td>\n",
       "      <td>0.000753</td>\n",
       "      <td>0.000954</td>\n",
       "      <td>0.001154</td>\n",
       "      <td>0.001154</td>\n",
       "    </tr>\n",
       "    <tr>\n",
       "      <th>9993</th>\n",
       "      <td>2015-09-09 07:33:00</td>\n",
       "      <td>199.23</td>\n",
       "      <td>199.31</td>\n",
       "      <td>199.16</td>\n",
       "      <td>199.17</td>\n",
       "      <td>3468</td>\n",
       "      <td>1189</td>\n",
       "      <td>199.255</td>\n",
       "      <td>7</td>\n",
       "      <td>33</td>\n",
       "      <td>...</td>\n",
       "      <td>206.9724</td>\n",
       "      <td>2677.8</td>\n",
       "      <td>0.999649</td>\n",
       "      <td>0</td>\n",
       "      <td>0.000502</td>\n",
       "      <td>0.001105</td>\n",
       "      <td>0.001305</td>\n",
       "      <td>0.001506</td>\n",
       "      <td>0.000954</td>\n",
       "      <td>0.001506</td>\n",
       "    </tr>\n",
       "    <tr>\n",
       "      <th>9994</th>\n",
       "      <td>2015-09-09 07:34:00</td>\n",
       "      <td>199.18</td>\n",
       "      <td>199.27</td>\n",
       "      <td>199.14</td>\n",
       "      <td>199.14</td>\n",
       "      <td>5215</td>\n",
       "      <td>1493</td>\n",
       "      <td>199.220</td>\n",
       "      <td>7</td>\n",
       "      <td>34</td>\n",
       "      <td>...</td>\n",
       "      <td>203.1030</td>\n",
       "      <td>2366.8</td>\n",
       "      <td>0.999147</td>\n",
       "      <td>0</td>\n",
       "      <td>0.001255</td>\n",
       "      <td>0.001456</td>\n",
       "      <td>0.001657</td>\n",
       "      <td>0.001105</td>\n",
       "      <td>0.000954</td>\n",
       "      <td>0.001657</td>\n",
       "    </tr>\n",
       "  </tbody>\n",
       "</table>\n",
       "<p>9990 rows × 23 columns</p>\n",
       "</div>"
      ]
     },
     "execution_count": 331,
     "metadata": {},
     "output_type": "execute_result"
    }
   ],
   "execution_count": 331
  },
  {
   "metadata": {
    "ExecuteTime": {
     "end_time": "2025-06-01T10:17:28.906884Z",
     "start_time": "2025-06-01T10:17:28.859489Z"
    }
   },
   "cell_type": "code",
   "source": "plt.hist(df['up/down'])",
   "id": "455461b1fe6d5a5",
   "outputs": [
    {
     "data": {
      "text/plain": [
       "(array([7801.,    0.,    0.,    0.,    0.,    0.,    0.,    0.,    0.,\n",
       "        2189.]),\n",
       " array([0. , 0.1, 0.2, 0.3, 0.4, 0.5, 0.6, 0.7, 0.8, 0.9, 1. ]),\n",
       " <BarContainer object of 10 artists>)"
      ]
     },
     "execution_count": 332,
     "metadata": {},
     "output_type": "execute_result"
    },
    {
     "data": {
      "text/plain": [
       "<Figure size 640x480 with 1 Axes>"
      ],
      "image/png": "[encoded data removed]"
     },
     "metadata": {},
     "output_type": "display_data"
    }
   ],
   "execution_count": 332
  },
  {
   "metadata": {},
   "cell_type": "markdown",
   "source": "Most of the time s&p500 is increasing",
   "id": "e843cbc72cf9b252"
  },
  {
   "metadata": {
    "ExecuteTime": {
     "end_time": "2025-06-01T10:17:30.000568Z",
     "start_time": "2025-06-01T10:17:29.953876Z"
    }
   },
   "cell_type": "code",
   "source": "plt.plot(df['target'],color='blue',label='Expected Max Return Rate For The Next 5 Minutes')",
   "id": "ba7b97bc76c9bbaa",
   "outputs": [
    {
     "data": {
      "text/plain": [
       "[<matplotlib.lines.Line2D at 0x38dd99bb0>]"
      ]
     },
     "execution_count": 333,
     "metadata": {},
     "output_type": "execute_result"
    },
    {
     "data": {
      "text/plain": [
       "<Figure size 640x480 with 1 Axes>"
      ],
      "image/png": "[encoded data removed]"
     },
     "metadata": {},
     "output_type": "display_data"
    }
   ],
   "execution_count": 333
  },
  {
   "metadata": {
    "ExecuteTime": {
     "end_time": "2025-06-01T10:17:30.643039Z",
     "start_time": "2025-06-01T10:17:30.444320Z"
    }
   },
   "cell_type": "code",
   "source": "sns.lineplot(x=df['hour'],y=df['target'],color='salmon',label='Expected Max Return Rate For The Next 5 Minutes Per Hour')",
   "id": "cf47a3713394d94c",
   "outputs": [
    {
     "data": {
      "text/plain": [
       "<Axes: xlabel='hour', ylabel='target'>"
      ]
     },
     "execution_count": 334,
     "metadata": {},
     "output_type": "execute_result"
    },
    {
     "data": {
      "text/plain": [
       "<Figure size 640x480 with 1 Axes>"
      ],
      "image/png": "[encoded data removed]"
     },
     "metadata": {},
     "output_type": "display_data"
    }
   ],
   "execution_count": 334
  },
  {
   "metadata": {},
   "cell_type": "markdown",
   "source": "Between 12-15 the return is the best",
   "id": "c854082aa111ddac"
  },
  {
   "metadata": {
    "ExecuteTime": {
     "end_time": "2025-06-01T10:17:31.733091Z",
     "start_time": "2025-06-01T10:17:31.556806Z"
    }
   },
   "cell_type": "code",
   "source": "sns.lineplot(x=df['hour'],y=df['rate'],color='salmon',label='Rate Per Hour')",
   "id": "60d68a7f3f698b68",
   "outputs": [
    {
     "data": {
      "text/plain": [
       "<Axes: xlabel='hour', ylabel='rate'>"
      ]
     },
     "execution_count": 335,
     "metadata": {},
     "output_type": "execute_result"
    },
    {
     "data": {
      "text/plain": [
       "<Figure size 640x480 with 1 Axes>"
      ],
      "image/png": "[encoded data removed]"
     },
     "metadata": {},
     "output_type": "display_data"
    }
   ],
   "execution_count": 335
  },
  {
   "metadata": {
    "ExecuteTime": {
     "end_time": "2025-06-01T10:17:32.200229Z",
     "start_time": "2025-06-01T10:17:32.139786Z"
    }
   },
   "cell_type": "code",
   "source": "sns.lineplot(df['average'])",
   "id": "bb2a9d271ed84699",
   "outputs": [
    {
     "data": {
      "text/plain": [
       "<Axes: ylabel='average'>"
      ]
     },
     "execution_count": 336,
     "metadata": {},
     "output_type": "execute_result"
    },
    {
     "data": {
      "text/plain": [
       "<Figure size 640x480 with 1 Axes>"
      ],
      "image/png": "[encoded data removed]"
     },
     "metadata": {},
     "output_type": "display_data"
    }
   ],
   "execution_count": 336
  },
  {
   "metadata": {
    "ExecuteTime": {
     "end_time": "2025-06-01T10:17:32.742300Z",
     "start_time": "2025-06-01T10:17:32.667280Z"
    }
   },
   "cell_type": "code",
   "source": "sns.lineplot(df['barCount'])",
   "id": "544e7d8de561613e",
   "outputs": [
    {
     "data": {
      "text/plain": [
       "<Axes: ylabel='barCount'>"
      ]
     },
     "execution_count": 337,
     "metadata": {},
     "output_type": "execute_result"
    },
    {
     "data": {
      "text/plain": [
       "<Figure size 640x480 with 1 Axes>"
      ],
      "image/png": "[encoded data removed]"
     },
     "metadata": {},
     "output_type": "display_data"
    }
   ],
   "execution_count": 337
  },
  {
   "metadata": {
    "ExecuteTime": {
     "end_time": "2025-06-01T10:17:33.390737Z",
     "start_time": "2025-06-01T10:17:33.209997Z"
    }
   },
   "cell_type": "code",
   "source": "sns.lineplot(x=df['hour'],y=df['std5'],color='red',label='Std Of The Past 5 Minutes By Hour')",
   "id": "5affd00671ed8081",
   "outputs": [
    {
     "data": {
      "text/plain": [
       "<Axes: xlabel='hour', ylabel='std5'>"
      ]
     },
     "execution_count": 338,
     "metadata": {},
     "output_type": "execute_result"
    },
    {
     "data": {
      "text/plain": [
       "<Figure size 640x480 with 1 Axes>"
      ],
      "image/png": "[encoded data removed]"
     },
     "metadata": {},
     "output_type": "display_data"
    }
   ],
   "execution_count": 338
  },
  {
   "metadata": {},
   "cell_type": "markdown",
   "source": "At morning the std rate increases",
   "id": "d42cbed2c5e296e7"
  },
  {
   "metadata": {
    "ExecuteTime": {
     "end_time": "2025-06-01T10:17:34.279568Z",
     "start_time": "2025-06-01T10:17:34.257413Z"
    }
   },
   "cell_type": "code",
   "source": "df.describe()",
   "id": "706ac599e1bb5ad1",
   "outputs": [
    {
     "data": {
      "text/plain": [
       "                                date         open         high          low  \\\n",
       "count                           9990  9990.000000  9990.000000  9990.000000   \n",
       "mean   2013-12-04 09:34:21.891891712   188.608779   188.646585   188.570376   \n",
       "min              2008-07-18 07:30:00    88.690000    88.850000    88.680000   \n",
       "25%              2010-01-29 09:12:15   124.980000   125.000000   124.960000   \n",
       "50%              2014-05-01 11:49:30   187.250000   187.300000   187.200000   \n",
       "75%              2018-07-19 07:51:45   279.840000   279.900000   279.785000   \n",
       "max              2020-08-21 17:59:00   339.670000   339.720000   339.670000   \n",
       "std                              NaN    77.255819    77.256484    77.255844   \n",
       "\n",
       "             close        volume      barCount     average         hour  \\\n",
       "count  9990.000000   9990.000000   9990.000000  9990.00000  9990.000000   \n",
       "mean    188.608924   2793.064665    805.419019   188.60847    10.183183   \n",
       "min      88.690000      0.000000      0.000000    88.76000     2.000000   \n",
       "25%     124.980000    725.250000    299.250000   124.98100     9.000000   \n",
       "50%     187.250000   1661.000000    570.000000   187.24150    10.000000   \n",
       "75%     279.840000   3565.750000   1051.000000   279.84400    12.000000   \n",
       "max     339.680000  44856.000000  10024.000000   339.67000    17.000000   \n",
       "std      77.256587   3458.403793    794.178052    77.25596     2.318489   \n",
       "\n",
       "            minute  ...     average5    barCount5         rate      up/down  \\\n",
       "count  9990.000000  ...  9990.000000  9990.000000  9990.000000  9990.000000   \n",
       "mean     30.400901  ...   188.575497   805.496677     1.000182     0.219119   \n",
       "min       0.000000  ...    88.802400     0.000000     0.505225     0.000000   \n",
       "25%      15.000000  ...   124.988200   358.250000     0.999600     0.000000   \n",
       "50%      31.000000  ...   187.212400   618.000000     0.999841     0.000000   \n",
       "75%      45.000000  ...   279.807350  1025.900000     1.000000     0.000000   \n",
       "max      59.000000  ...   339.658000  5658.600000     3.078569     1.000000   \n",
       "std      17.334546  ...    77.181521   681.324607     0.032756     0.413670   \n",
       "\n",
       "             rate1        rate2        rate3        rate4        rate5  \\\n",
       "count  9990.000000  9990.000000  9990.000000  9990.000000  9990.000000   \n",
       "mean      0.000652     0.001069     0.001486     0.001903     0.002320   \n",
       "min      -0.494339    -0.494431    -0.494568    -0.495302    -0.495256   \n",
       "25%       0.000053     0.000000    -0.000071    -0.000104    -0.000154   \n",
       "50%       0.000154     0.000157     0.000160     0.000160     0.000160   \n",
       "75%       0.000318     0.000400     0.000458     0.000493     0.000547   \n",
       "max       2.082916     2.080911     2.080273     2.080091     2.079818   \n",
       "std       0.032789     0.046351     0.056751     0.065519     0.073234   \n",
       "\n",
       "            target  \n",
       "count  9990.000000  \n",
       "mean      0.003997  \n",
       "min      -0.494339  \n",
       "25%       0.000146  \n",
       "50%       0.000355  \n",
       "75%       0.000717  \n",
       "max       2.082916  \n",
       "std       0.069823  \n",
       "\n",
       "[8 rows x 23 columns]"
      ],
      "text/html": [
       "<div>\n",
       "<style scoped>\n",
       "    .dataframe tbody tr th:only-of-type {\n",
       "        vertical-align: middle;\n",
       "    }\n",
       "\n",
       "    .dataframe tbody tr th {\n",
       "        vertical-align: top;\n",
       "    }\n",
       "\n",
       "    .dataframe thead th {\n",
       "        text-align: right;\n",
       "    }\n",
       "</style>\n",
       "<table border=\"1\" class=\"dataframe\">\n",
       "  <thead>\n",
       "    <tr style=\"text-align: right;\">\n",
       "      <th></th>\n",
       "      <th>date</th>\n",
       "      <th>open</th>\n",
       "      <th>high</th>\n",
       "      <th>low</th>\n",
       "      <th>close</th>\n",
       "      <th>volume</th>\n",
       "      <th>barCount</th>\n",
       "      <th>average</th>\n",
       "      <th>hour</th>\n",
       "      <th>minute</th>\n",
       "      <th>...</th>\n",
       "      <th>average5</th>\n",
       "      <th>barCount5</th>\n",
       "      <th>rate</th>\n",
       "      <th>up/down</th>\n",
       "      <th>rate1</th>\n",
       "      <th>rate2</th>\n",
       "      <th>rate3</th>\n",
       "      <th>rate4</th>\n",
       "      <th>rate5</th>\n",
       "      <th>target</th>\n",
       "    </tr>\n",
       "  </thead>\n",
       "  <tbody>\n",
       "    <tr>\n",
       "      <th>count</th>\n",
       "      <td>9990</td>\n",
       "      <td>9990.000000</td>\n",
       "      <td>9990.000000</td>\n",
       "      <td>9990.000000</td>\n",
       "      <td>9990.000000</td>\n",
       "      <td>9990.000000</td>\n",
       "      <td>9990.000000</td>\n",
       "      <td>9990.00000</td>\n",
       "      <td>9990.000000</td>\n",
       "      <td>9990.000000</td>\n",
       "      <td>...</td>\n",
       "      <td>9990.000000</td>\n",
       "      <td>9990.000000</td>\n",
       "      <td>9990.000000</td>\n",
       "      <td>9990.000000</td>\n",
       "      <td>9990.000000</td>\n",
       "      <td>9990.000000</td>\n",
       "      <td>9990.000000</td>\n",
       "      <td>9990.000000</td>\n",
       "      <td>9990.000000</td>\n",
       "      <td>9990.000000</td>\n",
       "    </tr>\n",
       "    <tr>\n",
       "      <th>mean</th>\n",
       "      <td>2013-12-04 09:34:21.891891712</td>\n",
       "      <td>188.608779</td>\n",
       "      <td>188.646585</td>\n",
       "      <td>188.570376</td>\n",
       "      <td>188.608924</td>\n",
       "      <td>2793.064665</td>\n",
       "      <td>805.419019</td>\n",
       "      <td>188.60847</td>\n",
       "      <td>10.183183</td>\n",
       "      <td>30.400901</td>\n",
       "      <td>...</td>\n",
       "      <td>188.575497</td>\n",
       "      <td>805.496677</td>\n",
       "      <td>1.000182</td>\n",
       "      <td>0.219119</td>\n",
       "      <td>0.000652</td>\n",
       "      <td>0.001069</td>\n",
       "      <td>0.001486</td>\n",
       "      <td>0.001903</td>\n",
       "      <td>0.002320</td>\n",
       "      <td>0.003997</td>\n",
       "    </tr>\n",
       "    <tr>\n",
       "      <th>min</th>\n",
       "      <td>2008-07-18 07:30:00</td>\n",
       "      <td>88.690000</td>\n",
       "      <td>88.850000</td>\n",
       "      <td>88.680000</td>\n",
       "      <td>88.690000</td>\n",
       "      <td>0.000000</td>\n",
       "      <td>0.000000</td>\n",
       "      <td>88.76000</td>\n",
       "      <td>2.000000</td>\n",
       "      <td>0.000000</td>\n",
       "      <td>...</td>\n",
       "      <td>88.802400</td>\n",
       "      <td>0.000000</td>\n",
       "      <td>0.505225</td>\n",
       "      <td>0.000000</td>\n",
       "      <td>-0.494339</td>\n",
       "      <td>-0.494431</td>\n",
       "      <td>-0.494568</td>\n",
       "      <td>-0.495302</td>\n",
       "      <td>-0.495256</td>\n",
       "      <td>-0.494339</td>\n",
       "    </tr>\n",
       "    <tr>\n",
       "      <th>25%</th>\n",
       "      <td>2010-01-29 09:12:15</td>\n",
       "      <td>124.980000</td>\n",
       "      <td>125.000000</td>\n",
       "      <td>124.960000</td>\n",
       "      <td>124.980000</td>\n",
       "      <td>725.250000</td>\n",
       "      <td>299.250000</td>\n",
       "      <td>124.98100</td>\n",
       "      <td>9.000000</td>\n",
       "      <td>15.000000</td>\n",
       "      <td>...</td>\n",
       "      <td>124.988200</td>\n",
       "      <td>358.250000</td>\n",
       "      <td>0.999600</td>\n",
       "      <td>0.000000</td>\n",
       "      <td>0.000053</td>\n",
       "      <td>0.000000</td>\n",
       "      <td>-0.000071</td>\n",
       "      <td>-0.000104</td>\n",
       "      <td>-0.000154</td>\n",
       "      <td>0.000146</td>\n",
       "    </tr>\n",
       "    <tr>\n",
       "      <th>50%</th>\n",
       "      <td>2014-05-01 11:49:30</td>\n",
       "      <td>187.250000</td>\n",
       "      <td>187.300000</td>\n",
       "      <td>187.200000</td>\n",
       "      <td>187.250000</td>\n",
       "      <td>1661.000000</td>\n",
       "      <td>570.000000</td>\n",
       "      <td>187.24150</td>\n",
       "      <td>10.000000</td>\n",
       "      <td>31.000000</td>\n",
       "      <td>...</td>\n",
       "      <td>187.212400</td>\n",
       "      <td>618.000000</td>\n",
       "      <td>0.999841</td>\n",
       "      <td>0.000000</td>\n",
       "      <td>0.000154</td>\n",
       "      <td>0.000157</td>\n",
       "      <td>0.000160</td>\n",
       "      <td>0.000160</td>\n",
       "      <td>0.000160</td>\n",
       "      <td>0.000355</td>\n",
       "    </tr>\n",
       "    <tr>\n",
       "      <th>75%</th>\n",
       "      <td>2018-07-19 07:51:45</td>\n",
       "      <td>279.840000</td>\n",
       "      <td>279.900000</td>\n",
       "      <td>279.785000</td>\n",
       "      <td>279.840000</td>\n",
       "      <td>3565.750000</td>\n",
       "      <td>1051.000000</td>\n",
       "      <td>279.84400</td>\n",
       "      <td>12.000000</td>\n",
       "      <td>45.000000</td>\n",
       "      <td>...</td>\n",
       "      <td>279.807350</td>\n",
       "      <td>1025.900000</td>\n",
       "      <td>1.000000</td>\n",
       "      <td>0.000000</td>\n",
       "      <td>0.000318</td>\n",
       "      <td>0.000400</td>\n",
       "      <td>0.000458</td>\n",
       "      <td>0.000493</td>\n",
       "      <td>0.000547</td>\n",
       "      <td>0.000717</td>\n",
       "    </tr>\n",
       "    <tr>\n",
       "      <th>max</th>\n",
       "      <td>2020-08-21 17:59:00</td>\n",
       "      <td>339.670000</td>\n",
       "      <td>339.720000</td>\n",
       "      <td>339.670000</td>\n",
       "      <td>339.680000</td>\n",
       "      <td>44856.000000</td>\n",
       "      <td>10024.000000</td>\n",
       "      <td>339.67000</td>\n",
       "      <td>17.000000</td>\n",
       "      <td>59.000000</td>\n",
       "      <td>...</td>\n",
       "      <td>339.658000</td>\n",
       "      <td>5658.600000</td>\n",
       "      <td>3.078569</td>\n",
       "      <td>1.000000</td>\n",
       "      <td>2.082916</td>\n",
       "      <td>2.080911</td>\n",
       "      <td>2.080273</td>\n",
       "      <td>2.080091</td>\n",
       "      <td>2.079818</td>\n",
       "      <td>2.082916</td>\n",
       "    </tr>\n",
       "    <tr>\n",
       "      <th>std</th>\n",
       "      <td>NaN</td>\n",
       "      <td>77.255819</td>\n",
       "      <td>77.256484</td>\n",
       "      <td>77.255844</td>\n",
       "      <td>77.256587</td>\n",
       "      <td>3458.403793</td>\n",
       "      <td>794.178052</td>\n",
       "      <td>77.25596</td>\n",
       "      <td>2.318489</td>\n",
       "      <td>17.334546</td>\n",
       "      <td>...</td>\n",
       "      <td>77.181521</td>\n",
       "      <td>681.324607</td>\n",
       "      <td>0.032756</td>\n",
       "      <td>0.413670</td>\n",
       "      <td>0.032789</td>\n",
       "      <td>0.046351</td>\n",
       "      <td>0.056751</td>\n",
       "      <td>0.065519</td>\n",
       "      <td>0.073234</td>\n",
       "      <td>0.069823</td>\n",
       "    </tr>\n",
       "  </tbody>\n",
       "</table>\n",
       "<p>8 rows × 23 columns</p>\n",
       "</div>"
      ]
     },
     "execution_count": 339,
     "metadata": {},
     "output_type": "execute_result"
    }
   ],
   "execution_count": 339
  },
  {
   "metadata": {
    "ExecuteTime": {
     "end_time": "2025-06-01T10:17:34.875623Z",
     "start_time": "2025-06-01T10:17:34.844370Z"
    }
   },
   "cell_type": "code",
   "source": [
    "scaler=MinMaxScaler()\n",
    "for col in ['open','close','high','low','volume','barCount','average','mean5','std5','average5','barCount5','rate']:\n",
    "    df[col]=scaler.fit_transform(df[col].values.reshape(-1,1))\n",
    "df.describe()\n",
    "    "
   ],
   "id": "e6d4120b33caa8e2",
   "outputs": [
    {
     "data": {
      "text/plain": [
       "                                date         open         high          low  \\\n",
       "count                           9990  9990.000000  9990.000000  9990.000000   \n",
       "mean   2013-12-04 09:34:21.891891712     0.398115     0.397802     0.397985   \n",
       "min              2008-07-18 07:30:00     0.000000     0.000000     0.000000   \n",
       "25%              2010-01-29 09:12:15     0.144593     0.144099     0.144548   \n",
       "50%              2014-05-01 11:49:30     0.392701     0.392434     0.392526   \n",
       "75%              2018-07-19 07:51:45     0.761614     0.761550     0.761405   \n",
       "max              2020-08-21 17:59:00     1.000000     1.000000     1.000000   \n",
       "std                              NaN     0.307817     0.307954     0.307804   \n",
       "\n",
       "             close       volume     barCount      average         hour  \\\n",
       "count  9990.000000  9990.000000  9990.000000  9990.000000  9990.000000   \n",
       "mean      0.398099     0.062267     0.080349     0.397945    10.183183   \n",
       "min       0.000000     0.000000     0.000000     0.000000     2.000000   \n",
       "25%       0.144587     0.016168     0.029853     0.144359     9.000000   \n",
       "50%       0.392685     0.037030     0.056864     0.392497    10.000000   \n",
       "75%       0.761584     0.079493     0.104848     0.761564    12.000000   \n",
       "max       1.000000     1.000000     1.000000     1.000000    17.000000   \n",
       "std       0.307807     0.077100     0.079228     0.307903     2.318489   \n",
       "\n",
       "            minute  ...     average5    barCount5         rate      up/down  \\\n",
       "count  9990.000000  ...  9990.000000  9990.000000  9990.000000  9990.000000   \n",
       "mean     30.400901  ...     0.397731     0.142349     0.192340     0.219119   \n",
       "min       0.000000  ...     0.000000     0.000000     0.000000     0.000000   \n",
       "25%      15.000000  ...     0.144250     0.063311     0.192114     0.000000   \n",
       "50%      31.000000  ...     0.392297     0.109214     0.192208     0.000000   \n",
       "75%      45.000000  ...     0.761414     0.181299     0.192269     0.000000   \n",
       "max      59.000000  ...     1.000000     1.000000     1.000000     1.000000   \n",
       "std      17.334546  ...     0.307673     0.120405     0.012729     0.413670   \n",
       "\n",
       "             rate1        rate2        rate3        rate4        rate5  \\\n",
       "count  9990.000000  9990.000000  9990.000000  9990.000000  9990.000000   \n",
       "mean      0.000652     0.001069     0.001486     0.001903     0.002320   \n",
       "min      -0.494339    -0.494431    -0.494568    -0.495302    -0.495256   \n",
       "25%       0.000053     0.000000    -0.000071    -0.000104    -0.000154   \n",
       "50%       0.000154     0.000157     0.000160     0.000160     0.000160   \n",
       "75%       0.000318     0.000400     0.000458     0.000493     0.000547   \n",
       "max       2.082916     2.080911     2.080273     2.080091     2.079818   \n",
       "std       0.032789     0.046351     0.056751     0.065519     0.073234   \n",
       "\n",
       "            target  \n",
       "count  9990.000000  \n",
       "mean      0.003997  \n",
       "min      -0.494339  \n",
       "25%       0.000146  \n",
       "50%       0.000355  \n",
       "75%       0.000717  \n",
       "max       2.082916  \n",
       "std       0.069823  \n",
       "\n",
       "[8 rows x 23 columns]"
      ],
      "text/html": [
       "<div>\n",
       "<style scoped>\n",
       "    .dataframe tbody tr th:only-of-type {\n",
       "        vertical-align: middle;\n",
       "    }\n",
       "\n",
       "    .dataframe tbody tr th {\n",
       "        vertical-align: top;\n",
       "    }\n",
       "\n",
       "    .dataframe thead th {\n",
       "        text-align: right;\n",
       "    }\n",
       "</style>\n",
       "<table border=\"1\" class=\"dataframe\">\n",
       "  <thead>\n",
       "    <tr style=\"text-align: right;\">\n",
       "      <th></th>\n",
       "      <th>date</th>\n",
       "      <th>open</th>\n",
       "      <th>high</th>\n",
       "      <th>low</th>\n",
       "      <th>close</th>\n",
       "      <th>volume</th>\n",
       "      <th>barCount</th>\n",
       "      <th>average</th>\n",
       "      <th>hour</th>\n",
       "      <th>minute</th>\n",
       "      <th>...</th>\n",
       "      <th>average5</th>\n",
       "      <th>barCount5</th>\n",
       "      <th>rate</th>\n",
       "      <th>up/down</th>\n",
       "      <th>rate1</th>\n",
       "      <th>rate2</th>\n",
       "      <th>rate3</th>\n",
       "      <th>rate4</th>\n",
       "      <th>rate5</th>\n",
       "      <th>target</th>\n",
       "    </tr>\n",
       "  </thead>\n",
       "  <tbody>\n",
       "    <tr>\n",
       "      <th>count</th>\n",
       "      <td>9990</td>\n",
       "      <td>9990.000000</td>\n",
       "      <td>9990.000000</td>\n",
       "      <td>9990.000000</td>\n",
       "      <td>9990.000000</td>\n",
       "      <td>9990.000000</td>\n",
       "      <td>9990.000000</td>\n",
       "      <td>9990.000000</td>\n",
       "      <td>9990.000000</td>\n",
       "      <td>9990.000000</td>\n",
       "      <td>...</td>\n",
       "      <td>9990.000000</td>\n",
       "      <td>9990.000000</td>\n",
       "      <td>9990.000000</td>\n",
       "      <td>9990.000000</td>\n",
       "      <td>9990.000000</td>\n",
       "      <td>9990.000000</td>\n",
       "      <td>9990.000000</td>\n",
       "      <td>9990.000000</td>\n",
       "      <td>9990.000000</td>\n",
       "      <td>9990.000000</td>\n",
       "    </tr>\n",
       "    <tr>\n",
       "      <th>mean</th>\n",
       "      <td>2013-12-04 09:34:21.891891712</td>\n",
       "      <td>0.398115</td>\n",
       "      <td>0.397802</td>\n",
       "      <td>0.397985</td>\n",
       "      <td>0.398099</td>\n",
       "      <td>0.062267</td>\n",
       "      <td>0.080349</td>\n",
       "      <td>0.397945</td>\n",
       "      <td>10.183183</td>\n",
       "      <td>30.400901</td>\n",
       "      <td>...</td>\n",
       "      <td>0.397731</td>\n",
       "      <td>0.142349</td>\n",
       "      <td>0.192340</td>\n",
       "      <td>0.219119</td>\n",
       "      <td>0.000652</td>\n",
       "      <td>0.001069</td>\n",
       "      <td>0.001486</td>\n",
       "      <td>0.001903</td>\n",
       "      <td>0.002320</td>\n",
       "      <td>0.003997</td>\n",
       "    </tr>\n",
       "    <tr>\n",
       "      <th>min</th>\n",
       "      <td>2008-07-18 07:30:00</td>\n",
       "      <td>0.000000</td>\n",
       "      <td>0.000000</td>\n",
       "      <td>0.000000</td>\n",
       "      <td>0.000000</td>\n",
       "      <td>0.000000</td>\n",
       "      <td>0.000000</td>\n",
       "      <td>0.000000</td>\n",
       "      <td>2.000000</td>\n",
       "      <td>0.000000</td>\n",
       "      <td>...</td>\n",
       "      <td>0.000000</td>\n",
       "      <td>0.000000</td>\n",
       "      <td>0.000000</td>\n",
       "      <td>0.000000</td>\n",
       "      <td>-0.494339</td>\n",
       "      <td>-0.494431</td>\n",
       "      <td>-0.494568</td>\n",
       "      <td>-0.495302</td>\n",
       "      <td>-0.495256</td>\n",
       "      <td>-0.494339</td>\n",
       "    </tr>\n",
       "    <tr>\n",
       "      <th>25%</th>\n",
       "      <td>2010-01-29 09:12:15</td>\n",
       "      <td>0.144593</td>\n",
       "      <td>0.144099</td>\n",
       "      <td>0.144548</td>\n",
       "      <td>0.144587</td>\n",
       "      <td>0.016168</td>\n",
       "      <td>0.029853</td>\n",
       "      <td>0.144359</td>\n",
       "      <td>9.000000</td>\n",
       "      <td>15.000000</td>\n",
       "      <td>...</td>\n",
       "      <td>0.144250</td>\n",
       "      <td>0.063311</td>\n",
       "      <td>0.192114</td>\n",
       "      <td>0.000000</td>\n",
       "      <td>0.000053</td>\n",
       "      <td>0.000000</td>\n",
       "      <td>-0.000071</td>\n",
       "      <td>-0.000104</td>\n",
       "      <td>-0.000154</td>\n",
       "      <td>0.000146</td>\n",
       "    </tr>\n",
       "    <tr>\n",
       "      <th>50%</th>\n",
       "      <td>2014-05-01 11:49:30</td>\n",
       "      <td>0.392701</td>\n",
       "      <td>0.392434</td>\n",
       "      <td>0.392526</td>\n",
       "      <td>0.392685</td>\n",
       "      <td>0.037030</td>\n",
       "      <td>0.056864</td>\n",
       "      <td>0.392497</td>\n",
       "      <td>10.000000</td>\n",
       "      <td>31.000000</td>\n",
       "      <td>...</td>\n",
       "      <td>0.392297</td>\n",
       "      <td>0.109214</td>\n",
       "      <td>0.192208</td>\n",
       "      <td>0.000000</td>\n",
       "      <td>0.000154</td>\n",
       "      <td>0.000157</td>\n",
       "      <td>0.000160</td>\n",
       "      <td>0.000160</td>\n",
       "      <td>0.000160</td>\n",
       "      <td>0.000355</td>\n",
       "    </tr>\n",
       "    <tr>\n",
       "      <th>75%</th>\n",
       "      <td>2018-07-19 07:51:45</td>\n",
       "      <td>0.761614</td>\n",
       "      <td>0.761550</td>\n",
       "      <td>0.761405</td>\n",
       "      <td>0.761584</td>\n",
       "      <td>0.079493</td>\n",
       "      <td>0.104848</td>\n",
       "      <td>0.761564</td>\n",
       "      <td>12.000000</td>\n",
       "      <td>45.000000</td>\n",
       "      <td>...</td>\n",
       "      <td>0.761414</td>\n",
       "      <td>0.181299</td>\n",
       "      <td>0.192269</td>\n",
       "      <td>0.000000</td>\n",
       "      <td>0.000318</td>\n",
       "      <td>0.000400</td>\n",
       "      <td>0.000458</td>\n",
       "      <td>0.000493</td>\n",
       "      <td>0.000547</td>\n",
       "      <td>0.000717</td>\n",
       "    </tr>\n",
       "    <tr>\n",
       "      <th>max</th>\n",
       "      <td>2020-08-21 17:59:00</td>\n",
       "      <td>1.000000</td>\n",
       "      <td>1.000000</td>\n",
       "      <td>1.000000</td>\n",
       "      <td>1.000000</td>\n",
       "      <td>1.000000</td>\n",
       "      <td>1.000000</td>\n",
       "      <td>1.000000</td>\n",
       "      <td>17.000000</td>\n",
       "      <td>59.000000</td>\n",
       "      <td>...</td>\n",
       "      <td>1.000000</td>\n",
       "      <td>1.000000</td>\n",
       "      <td>1.000000</td>\n",
       "      <td>1.000000</td>\n",
       "      <td>2.082916</td>\n",
       "      <td>2.080911</td>\n",
       "      <td>2.080273</td>\n",
       "      <td>2.080091</td>\n",
       "      <td>2.079818</td>\n",
       "      <td>2.082916</td>\n",
       "    </tr>\n",
       "    <tr>\n",
       "      <th>std</th>\n",
       "      <td>NaN</td>\n",
       "      <td>0.307817</td>\n",
       "      <td>0.307954</td>\n",
       "      <td>0.307804</td>\n",
       "      <td>0.307807</td>\n",
       "      <td>0.077100</td>\n",
       "      <td>0.079228</td>\n",
       "      <td>0.307903</td>\n",
       "      <td>2.318489</td>\n",
       "      <td>17.334546</td>\n",
       "      <td>...</td>\n",
       "      <td>0.307673</td>\n",
       "      <td>0.120405</td>\n",
       "      <td>0.012729</td>\n",
       "      <td>0.413670</td>\n",
       "      <td>0.032789</td>\n",
       "      <td>0.046351</td>\n",
       "      <td>0.056751</td>\n",
       "      <td>0.065519</td>\n",
       "      <td>0.073234</td>\n",
       "      <td>0.069823</td>\n",
       "    </tr>\n",
       "  </tbody>\n",
       "</table>\n",
       "<p>8 rows × 23 columns</p>\n",
       "</div>"
      ]
     },
     "execution_count": 340,
     "metadata": {},
     "output_type": "execute_result"
    }
   ],
   "execution_count": 340
  },
  {
   "metadata": {},
   "cell_type": "markdown",
   "source": "Values are scaled",
   "id": "b9ffddbab3b443e5"
  },
  {
   "metadata": {
    "ExecuteTime": {
     "end_time": "2025-06-01T10:17:35.993668Z",
     "start_time": "2025-06-01T10:17:35.988890Z"
    }
   },
   "cell_type": "code",
   "source": "df.isnull().sum()",
   "id": "7ce8ab1e87ad9050",
   "outputs": [
    {
     "data": {
      "text/plain": [
       "date         0\n",
       "open         0\n",
       "high         0\n",
       "low          0\n",
       "close        0\n",
       "volume       0\n",
       "barCount     0\n",
       "average      0\n",
       "hour         0\n",
       "minute       0\n",
       "daytime      0\n",
       "mean5        0\n",
       "std5         0\n",
       "average5     0\n",
       "barCount5    0\n",
       "rate         0\n",
       "up/down      0\n",
       "rate1        0\n",
       "rate2        0\n",
       "rate3        0\n",
       "rate4        0\n",
       "rate5        0\n",
       "target       0\n",
       "dtype: int64"
      ]
     },
     "execution_count": 341,
     "metadata": {},
     "output_type": "execute_result"
    }
   ],
   "execution_count": 341
  },
  {
   "metadata": {},
   "cell_type": "markdown",
   "source": "Still no null values after feature engineering",
   "id": "82d85a7eedf139fb"
  },
  {
   "metadata": {},
   "cell_type": "markdown",
   "source": "*Predict The target*",
   "id": "c11a041db9c23406"
  },
  {
   "metadata": {
    "ExecuteTime": {
     "end_time": "2025-06-01T10:17:37.590487Z",
     "start_time": "2025-06-01T10:17:37.586315Z"
    }
   },
   "cell_type": "code",
   "source": [
    "X=pd.DataFrame(df[['open','high','volume','mean5','std5','average5','barCount5','rate','hour','minute']])\n",
    "Y=df['target']\n",
    "x_train,x_test,y_train,y_test=train_test_split(X,Y,test_size=0.2,shuffle=False)"
   ],
   "id": "b2bf4bb7bd4d8204",
   "outputs": [],
   "execution_count": 342
  },
  {
   "metadata": {
    "ExecuteTime": {
     "end_time": "2025-06-01T10:17:38.201698Z",
     "start_time": "2025-06-01T10:17:38.130488Z"
    }
   },
   "cell_type": "code",
   "source": [
    "model=xgb.XGBRegressor()\n",
    "model.fit(x_train,y_train)\n",
    "y_pred=model.predict(x_test)\n",
    "rmse=mean_squared_error(y_test,y_pred)\n",
    "r2=r2_score(y_test,y_pred)\n",
    "print(f\"RMSE: {rmse}\")\n",
    "print(f\"R2 Score: {r2}\")"
   ],
   "id": "ab02712f1895becb",
   "outputs": [
    {
     "name": "stdout",
     "output_type": "stream",
     "text": [
      "RMSE: 0.0016813048759162948\n",
      "R2 Score: 0.7456627398930882\n"
     ]
    }
   ],
   "execution_count": 343
  },
  {
   "metadata": {},
   "cell_type": "markdown",
   "source": "Good Model- 74% of data's std is explained by the model, very small error.",
   "id": "47b6072ea66a0a21"
  },
  {
   "metadata": {
    "ExecuteTime": {
     "end_time": "2025-06-01T10:17:39.326781Z",
     "start_time": "2025-06-01T10:17:39.278907Z"
    }
   },
   "cell_type": "code",
   "source": [
    "importance=pd.DataFrame(model.feature_importances_,index=X.columns)\n",
    "importance.plot.bar()"
   ],
   "id": "f9a4d00a25f3e863",
   "outputs": [
    {
     "data": {
      "text/plain": [
       "<Axes: >"
      ]
     },
     "execution_count": 344,
     "metadata": {},
     "output_type": "execute_result"
    },
    {
     "data": {
      "text/plain": [
       "<Figure size 640x480 with 1 Axes>"
      ],
      "image/png": "[encoded data removed]"
     },
     "metadata": {},
     "output_type": "display_data"
    }
   ],
   "execution_count": 344
  },
  {
   "metadata": {},
   "cell_type": "markdown",
   "source": "Open, hour and minute columns contributes the most to the prediction",
   "id": "78433e6f5f59365c"
  },
  {
   "metadata": {},
   "cell_type": "code",
   "outputs": [],
   "execution_count": null,
   "source": "",
   "id": "ebd2fb11f930f1ba"
  }
 ],
 "metadata": {
  "kernelspec": {
   "display_name": "Python 3",
   "language": "python",
   "name": "python3"
  },
  "language_info": {
   "codemirror_mode": {
    "name": "ipython",
    "version": 2
   },
   "file_extension": ".py",
   "mimetype": "text/x-python",
   "name": "python",
   "nbconvert_exporter": "python",
   "pygments_lexer": "ipython2",
   "version": "2.7.6"
  }
 },
 "nbformat": 4,
 "nbformat_minor": 5
}
